{
 "cells": [
  {
   "cell_type": "code",
   "execution_count": 1,
   "id": "98b21934",
   "metadata": {},
   "outputs": [
    {
     "name": "stdout",
     "output_type": "stream",
     "text": [
      "Average:- 4.0\n"
     ]
    }
   ],
   "source": [
    "a=4\n",
    "b=3\n",
    "c=5\n",
    "d=a+b+c\n",
    "avg=d/3\n",
    "print(\"Average:-\",avg)"
   ]
  },
  {
   "cell_type": "code",
   "execution_count": null,
   "id": "a7c974a4",
   "metadata": {},
   "outputs": [],
   "source": []
  }
 ],
 "metadata": {
  "kernelspec": {
   "display_name": "Python 3 (ipykernel)",
   "language": "python",
   "name": "python3"
  },
  "language_info": {
   "codemirror_mode": {
    "name": "ipython",
    "version": 3
   },
   "file_extension": ".py",
   "mimetype": "text/x-python",
   "name": "python",
   "nbconvert_exporter": "python",
   "pygments_lexer": "ipython3",
   "version": "3.9.7"
  }
 },
 "nbformat": 4,
 "nbformat_minor": 5
}
